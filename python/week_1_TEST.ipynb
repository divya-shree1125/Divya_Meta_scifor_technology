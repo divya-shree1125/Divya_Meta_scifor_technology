{
  "nbformat": 4,
  "nbformat_minor": 0,
  "metadata": {
    "colab": {
      "provenance": [],
      "authorship_tag": "ABX9TyONvXrbWcoXSiSal1EJ3VQN",
      "include_colab_link": true
    },
    "kernelspec": {
      "name": "python3",
      "display_name": "Python 3"
    },
    "language_info": {
      "name": "python"
    }
  },
  "cells": [
    {
      "cell_type": "markdown",
      "metadata": {
        "id": "view-in-github",
        "colab_type": "text"
      },
      "source": [
        "<a href=\"https://colab.research.google.com/github/divya-shree1125/Divya_Meta_scifor_technology/blob/main/TEST_PYTHON.ipynb\" target=\"_parent\"><img src=\"https://colab.research.google.com/assets/colab-badge.svg\" alt=\"Open In Colab\"/></a>"
      ]
    },
    {
      "cell_type": "code",
      "execution_count": 1,
      "metadata": {
        "id": "A3eZu5YNT-Je",
        "colab": {
          "base_uri": "https://localhost:8080/"
        },
        "outputId": "dd36738a-0ee5-4a91-e0fd-ef94e7823618"
      },
      "outputs": [
        {
          "output_type": "stream",
          "name": "stdout",
          "text": [
            "<class 'int'>\n",
            "<class 'float'>\n",
            "<class 'str'>\n",
            "<class 'list'>\n",
            "<class 'tuple'>\n",
            "<class 'dict'>\n",
            "<class 'set'>\n"
          ]
        }
      ],
      "source": [
        "#1.What are python datatypes:\n",
        "#a.integers:-\n",
        "a=25\n",
        "print(type(a))\n",
        "#b.float:\n",
        "b=23.5\n",
        "print(type(b))\n",
        "#c.string:\n",
        "c=\"this is python learning\"\n",
        "print(type(c))\n",
        "#d.list:\n",
        "a=[1,'a',2.5,\"world\"]\n",
        "print(type(a))\n",
        "#e.tuples:\n",
        "tup=(87,87,7,8,8)\n",
        "print(type(tup))\n",
        "#f.dictionary:\n",
        "d={\"name\":\"divya\",\"marks\":[95,89,97]}\n",
        "print(type(d))\n",
        "#g.sets:\n",
        "a={1,3,4,5}\n",
        "print(type(a))"
      ]
    },
    {
      "cell_type": "code",
      "source": [
        "#2.explain the diffence between list,tuple and sets:\n",
        "'''answer:\n",
        "a.list: a built-in datatype that stores set of values. it can store element of diffent types(int,float).\n",
        "it is mutable,indexing,ordered, allow duplicates.\n",
        "\n",
        "b.tuple:it is  built-in datatype that lets us create ordered and immutable,sequnces of values.\n",
        "and it allowes duplicates,indexing.\n",
        "\n",
        "c.sets:it is the collection of the unordered items each element in the set must be unique and mutable)'''"
      ],
      "metadata": {
        "collapsed": true,
        "colab": {
          "base_uri": "https://localhost:8080/",
          "height": 70
        },
        "id": "SKM0NTPIUewq",
        "outputId": "5a6aad85-a2ef-4b9f-b086-733b8932f113"
      },
      "execution_count": 3,
      "outputs": [
        {
          "output_type": "execute_result",
          "data": {
            "text/plain": [
              "'answer:\\na.list: a built-in datatype that stores set of values. it can store element of diffent types(int,float).\\nit is mutable,indexing,ordered, allow duplicates.\\n\\nb.tuple:it is  built-in datatype that lets us create ordered and immutable,sequnces of values.\\nand it allowes duplicates,indexing.\\n\\nc.sets:it is the collection of the unordered items each element in the set must be unique and mutable)'"
            ],
            "application/vnd.google.colaboratory.intrinsic+json": {
              "type": "string"
            }
          },
          "metadata": {},
          "execution_count": 3
        }
      ]
    },
    {
      "cell_type": "code",
      "source": [
        "#3.how do you handle exceptions in python:\n",
        "a=int(input(\"enter the 1st number:\"))\n",
        "b=int(input(\"enter the 2nd number:\"))\n",
        "try:\n",
        "  c=a/b\n",
        "  print('result:',c)\n",
        "except:\n",
        "  print(\"can't divide to zeor...!\")\n",
        "else:\n",
        "  print(\"divya...\")\n"
      ],
      "metadata": {
        "colab": {
          "base_uri": "https://localhost:8080/"
        },
        "id": "0EGjJZ40UxQx",
        "outputId": "d067aa00-185e-483b-d2b5-ca0870c52619"
      },
      "execution_count": 5,
      "outputs": [
        {
          "output_type": "stream",
          "name": "stdout",
          "text": [
            "enter the 1st number:50\n",
            "enter the 2nd number:10\n",
            "result: 5.0\n",
            "divya...\n"
          ]
        }
      ]
    },
    {
      "cell_type": "code",
      "source": [
        "#4.what are decorates.\n",
        "'''it allows us wrap another function in order to extent the behaviour of the warpped function,without permanently modifiying it.'''\n",
        "class student:\n",
        "  @staticmethod\n",
        "  def college():\n",
        "    print(\"ABC college\")\n",
        ""
      ],
      "metadata": {
        "id": "zdbPNSz-WInZ"
      },
      "execution_count": 7,
      "outputs": []
    },
    {
      "cell_type": "code",
      "source": [
        "#7.how do you work with files in python\n",
        "'''A.open():we have to open a file before reading and writting\n",
        "B.read():it is used to open for reading the file.\n",
        "c.write():it is open for writing to the file '''"
      ],
      "metadata": {
        "colab": {
          "base_uri": "https://localhost:8080/",
          "height": 52
        },
        "id": "ovrT0hTBXeKT",
        "outputId": "d140abcf-fa60-48bf-934f-1cd5442bb047"
      },
      "execution_count": 8,
      "outputs": [
        {
          "output_type": "execute_result",
          "data": {
            "text/plain": [
              "'A.open():we have to open a file before reading and writting \\nB.read():it is used to open for reading the file.\\nc.write():it is open for writing to the file '"
            ],
            "application/vnd.google.colaboratory.intrinsic+json": {
              "type": "string"
            }
          },
          "metadata": {},
          "execution_count": 8
        }
      ]
    },
    {
      "cell_type": "code",
      "source": [
        "#oop implementation:\n",
        "#1.what is object-oriented programming(oop)\n",
        "'''A.abstraction:hiding the implementation details of a class and only showing the esential features to the user.\n",
        "b.encapsulation:warpping data and function into a single unit(object)\n",
        "c.Inheritance:when one class(child/derived) inherits the properties of another class(parent/base)\n",
        "d.polymorphism:its ability to take multiple forms.'''"
      ],
      "metadata": {
        "colab": {
          "base_uri": "https://localhost:8080/",
          "height": 70
        },
        "id": "d2sXbCzSX3x-",
        "outputId": "ebd80765-08eb-4d46-81c6-c34717382f61"
      },
      "execution_count": 9,
      "outputs": [
        {
          "output_type": "execute_result",
          "data": {
            "text/plain": [
              "'A.abstraction:hiding the implementation details of a class and only showing the esential features to the user.\\nb.encapsulation:warpping data and function into a single unit(object)\\nc.Inheritance:when one class(child/derived) inherits the properties of another class(parent/base)\\nd.polymorphism:its ability to take multiple forms.'"
            ],
            "application/vnd.google.colaboratory.intrinsic+json": {
              "type": "string"
            }
          },
          "metadata": {},
          "execution_count": 9
        }
      ]
    },
    {
      "cell_type": "markdown",
      "source": [],
      "metadata": {
        "id": "xLazYsDlW15J"
      }
    },
    {
      "cell_type": "code",
      "source": [
        "#3.how do you create a class in python.\n",
        "#class:\n",
        "class addition():\n",
        "  def add(self,a,b):\n",
        "    return a+b\n",
        "#object:\n",
        "a=addition()\n",
        "a.add(2,3)\n",
        "\n",
        "\n"
      ],
      "metadata": {
        "colab": {
          "base_uri": "https://localhost:8080/"
        },
        "id": "x04ntHXdaLcH",
        "outputId": "6fdd1c5b-33d8-40ce-ed79-1ab475bca788"
      },
      "execution_count": 15,
      "outputs": [
        {
          "output_type": "execute_result",
          "data": {
            "text/plain": [
              "5"
            ]
          },
          "metadata": {},
          "execution_count": 15
        }
      ]
    },
    {
      "cell_type": "code",
      "source": [
        "#4.diffrence between instance variable and class variable.\n",
        "'''instance varible:they are unique to each object.they are defined using self within class methond(__init__).'''\n",
        "class person:\n",
        "  def __init__(self,name):\n",
        "    self.name=name\n",
        "\n",
        "p=person(\"divya\")\n",
        "print(p.name)\n",
        "\n",
        "'''class variable:they are shared among all objects of a class.they are defined at the class level,outside of any method.'''\n",
        "class person:\n",
        "  species=\"human\"\n",
        "  def __init__(self,name):\n",
        "    self.name=name\n",
        "\n",
        "p=person(\"divya\")\n",
        "p.species"
      ],
      "metadata": {
        "colab": {
          "base_uri": "https://localhost:8080/",
          "height": 52
        },
        "id": "bFF4gmZAa4zD",
        "outputId": "b51d448b-c315-47ca-f4a1-5f523c3d6b41"
      },
      "execution_count": 19,
      "outputs": [
        {
          "output_type": "stream",
          "name": "stdout",
          "text": [
            "divya\n"
          ]
        },
        {
          "output_type": "execute_result",
          "data": {
            "text/plain": [
              "'human'"
            ],
            "application/vnd.google.colaboratory.intrinsic+json": {
              "type": "string"
            }
          },
          "metadata": {},
          "execution_count": 19
        }
      ]
    },
    {
      "cell_type": "code",
      "source": [
        "#5.what is the purpose of the __init_-method.\n",
        "'''all classes have a function called __init__(),which is always executed when the class is being initiated.\n",
        "use the __init__() function to assign values to object properties,or other operations that are necessary to do when the object is being created.'''\n",
        "class person:\n",
        "  def __init__(self,name):\n",
        "    self.name=name\n",
        "\n",
        "p=person(\"divya\")\n",
        "print(p.name)\n"
      ],
      "metadata": {
        "colab": {
          "base_uri": "https://localhost:8080/"
        },
        "id": "GcEz4xXvclRr",
        "outputId": "5c6e960c-80ce-4301-dffc-a8893b34cddd"
      },
      "execution_count": 20,
      "outputs": [
        {
          "output_type": "stream",
          "name": "stdout",
          "text": [
            "divya\n"
          ]
        }
      ]
    },
    {
      "cell_type": "code",
      "source": [
        "#7.what is inheritance.\n",
        "class car:\n",
        "  @staticmethod\n",
        "  def start():\n",
        "    print(\"car started\")\n",
        "  @staticmethod\n",
        "  def stop():\n",
        "    print(\"car stopped\")\n",
        "\n",
        "class toyotacar(car):\n",
        "  def __init__(self,name):\n",
        "    self.name=name\n",
        "\n",
        "car1=toyotacar(\"fortuner\")\n",
        "print(car1.name)\n",
        "print(car1.stop())"
      ],
      "metadata": {
        "colab": {
          "base_uri": "https://localhost:8080/"
        },
        "id": "S8AhYnuOf00u",
        "outputId": "732f2911-2abc-414e-8ff5-5187583f009f"
      },
      "execution_count": 23,
      "outputs": [
        {
          "output_type": "stream",
          "name": "stdout",
          "text": [
            "fortuner\n",
            "car stopped\n",
            "None\n"
          ]
        }
      ]
    },
    {
      "cell_type": "code",
      "source": [
        "#9.what is multiple inheritance?how does python handle it?\n",
        "class A:\n",
        "  varA=\"wlecome to class A\"\n",
        "class B:\n",
        "  varB=\"wlecome to class B\"\n",
        "class c(A,B):\n",
        "  varC=\"welcome to class c\"\n",
        "c1=c()\n",
        "print(c1.varC)\n",
        "print(c1.varA)\n",
        "print(c1.varB)"
      ],
      "metadata": {
        "colab": {
          "base_uri": "https://localhost:8080/"
        },
        "id": "SJWKdLGggmNl",
        "outputId": "8dacf397-d7af-4051-c7ce-52e85c22e6b3"
      },
      "execution_count": 24,
      "outputs": [
        {
          "output_type": "stream",
          "name": "stdout",
          "text": [
            "welcome to class c\n",
            "wlecome to class A\n",
            "wlecome to class B\n"
          ]
        }
      ]
    },
    {
      "cell_type": "code",
      "source": [
        "#12.what is encapsulation.\n",
        "class account:\n",
        "    def __init__(self,balance,accno):\n",
        "        self.bal=balance\n",
        "        self.acc=accno\n",
        "    def debit(self,amt):\n",
        "        self.bal-=amt\n",
        "        print(\"rs\",amt,\" is debited from account\")\n",
        "        print(\"the total balance =\",self.get_balance())\n",
        "\n",
        "    def credit(self,amt):\n",
        "        self.bal+=amt\n",
        "        print(\"rs\",amt,\" is credited from account\")\n",
        "        print(\"the total balance =\",self.get_balance())\n",
        "    def get_balance(self):\n",
        "        return self.bal\n",
        "\n",
        "acc=account(10000,1234)\n",
        "print(acc.debit(1000))\n",
        "acc.credit(2000)"
      ],
      "metadata": {
        "colab": {
          "base_uri": "https://localhost:8080/"
        },
        "id": "ZQl-QVaSl7DB",
        "outputId": "65c49300-f90d-4176-f561-d2a41545a79e"
      },
      "execution_count": 33,
      "outputs": [
        {
          "output_type": "stream",
          "name": "stdout",
          "text": [
            "rs 1000  is debited from account\n",
            "the total balance = 9000\n",
            "None\n",
            "rs 2000  is credited from account\n",
            "the total balance = 11000\n"
          ]
        }
      ]
    },
    {
      "cell_type": "code",
      "source": [
        "#14.how do you implement operator overloading in python\n",
        "class complex:\n",
        "  def __init__(self,real,img):\n",
        "    self.treal=real\n",
        "    self.timg=img\n",
        "  def shownumber(self):\n",
        "    print(self.treal,\"i+\",self.timg,\"j\")\n",
        "  def __add__(self,other):\n",
        "    newreal=self.treal+other.treal\n",
        "    newimg=self.timg+other.timg\n",
        "    return complex(newreal,newimg)\n",
        "  def __sub__(self,other):\n",
        "    newreal=self.treal-other.treal\n",
        "    newimg=self.timg-other.timg\n",
        "    return complex(newreal,newimg)\n",
        "\n",
        "n=complex(1,3)\n",
        "n.shownumber()\n",
        "n2=complex(4,6)\n",
        "n2.shownumber()\n",
        "n3=n-n2\n",
        "n3.shownumber()\n"
      ],
      "metadata": {
        "colab": {
          "base_uri": "https://localhost:8080/"
        },
        "id": "eQKRuRPXhusy",
        "outputId": "c55f91bf-6ae3-4868-f128-03a7b3248cfa"
      },
      "execution_count": 40,
      "outputs": [
        {
          "output_type": "stream",
          "name": "stdout",
          "text": [
            "1 i+ 3 j\n",
            "4 i+ 6 j\n",
            "-3 i+ -3 j\n"
          ]
        }
      ]
    },
    {
      "cell_type": "code",
      "source": [
        "#15.what is a staic method and a class method in python\n",
        "'''static method:methods that don't use the self parameter(works at class level)'''\n",
        "class car:\n",
        "  @staticmethod\n",
        "  def start():\n",
        "    print(\"car started\")\n",
        "'''class method:a class method is bound to the class and rececivedthe class as an implicit first argument'''\n",
        "class student:\n",
        "  @classmethod\n",
        "  def college(cls):\n",
        "    pass\n"
      ],
      "metadata": {
        "id": "-UvEh2FcjEGN"
      },
      "execution_count": null,
      "outputs": []
    }
  ]
}
