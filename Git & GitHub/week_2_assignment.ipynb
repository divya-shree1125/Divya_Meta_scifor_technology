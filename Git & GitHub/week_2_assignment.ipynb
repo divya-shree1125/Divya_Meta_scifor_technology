{
  "nbformat": 4,
  "nbformat_minor": 0,
  "metadata": {
    "colab": {
      "provenance": [],
      "authorship_tag": "ABX9TyOkaL01qYnJOOrOz8W/ytgm",
      "include_colab_link": true
    },
    "kernelspec": {
      "name": "python3",
      "display_name": "Python 3"
    },
    "language_info": {
      "name": "python"
    }
  },
  "cells": [
    {
      "cell_type": "markdown",
      "metadata": {
        "id": "view-in-github",
        "colab_type": "text"
      },
      "source": [
        "<a href=\"https://colab.research.google.com/github/divya-shree1125/Divya_Meta_scifor_technology/blob/main/week_2_assignment.ipynb\" target=\"_parent\"><img src=\"https://colab.research.google.com/assets/colab-badge.svg\" alt=\"Open In Colab\"/></a>"
      ]
    },
    {
      "cell_type": "markdown",
      "source": [
        "# **GIT**:Git is a powerful version control system that tracks changes in source code over time .it allows developers to collaborate efficiently, manage project history,and revert to previous versions if needed.\n",
        "\n",
        "# **GITHUB:**Github is a popular platform for hosting Get repositories,collaborating with other developer, and managing software projects.it provides a user-friendly interface for managing code, tracking issues,and reviewing code changes."
      ],
      "metadata": {
        "id": "WsmJlgg5mcb8"
      }
    },
    {
      "cell_type": "markdown",
      "source": [
        "# **Concepts:**\n",
        "**1.Repository:**Adirectory containing all project files and their history.\n",
        "\n",
        "**2.commit:**A snapshot of the repository at a specific point in time.\n",
        "\n",
        "**3.branch:**A separate line of development,allowing for parallel work.\n",
        "\n",
        "**4.Merge:**Combining changes from one branch into another.\n",
        "\n",
        "**5.pull request:**A request hosted on a remote server,such as Github.\n",
        "\n",
        "**6.Remote repository:**A repository hosted on a remote server,such as Github.\n",
        "\n",
        "**7.Head:**A pointer to the currently active commit.\n"
      ],
      "metadata": {
        "id": "lJVkI4-roFsI"
      }
    },
    {
      "cell_type": "markdown",
      "source": [
        "# **Commands:**\n",
        "# **1.Initialization:**\n",
        "   \n",
        "  **git init:** creates a new Git repository in staging area."
      ],
      "metadata": {
        "id": "YIvxOJ1otJWW"
      }
    },
    {
      "cell_type": "markdown",
      "source": [
        "# **2.Basic Operations:**\n",
        "\n",
        "**git addfilename:** adds a file to the staging area.\n",
        "\n",
        "**git commit -m \"commit message\":** commits changes to the local repository.\n",
        "\n",
        "**git status:** Show the current state of the working directory.\n",
        "\n",
        "**git diff:** show the difference between  commits,files or the working directory and the staging area.\n",
        "\n",
        "**git log:** show the commit history."
      ],
      "metadata": {
        "id": "nMTh66V3tr8q"
      }
    },
    {
      "cell_type": "markdown",
      "source": [
        "# **3.Branching and Merging:**\n",
        "\n",
        "**git branch brach_name :** creates a new branch.\n",
        "\n",
        "**git checkout branch_name :** Switches to a different branch.\n",
        "\n",
        "**git merge branch_name:** Merges the specified branch into the current branch\n",
        "\n",
        "**git branch -d branch_name:**Deletes a branch."
      ],
      "metadata": {
        "id": "jF2wIwMkLWen"
      }
    },
    {
      "cell_type": "markdown",
      "source": [
        "# **4.Remote Repositories:**\n",
        "\n",
        "**git remote add remote_name url:** adds a repository.\n",
        "\n",
        "**git fetch remote_name:** fetches changes from a remote repository.\n",
        "\n",
        "**git pull remote_name branch_name:**fetches and merges changes from a remote repository.\n",
        "\n",
        "**git push remote_name branch_name:**pushes changes to a remote repository.\n"
      ],
      "metadata": {
        "id": "BRHBIS5yMrFv"
      }
    },
    {
      "cell_type": "markdown",
      "source": [
        "**git reset --hard head:** Reverts the last commit.\n",
        "\n",
        "**git revert commit_hash:** create a new commit that undoes the changes of a specific commit.\n",
        "\n",
        "**git stash:**temporarily saves changes to the working directory.\n",
        "\n",
        "**git stash pop:** restores the most recently stashed changes."
      ],
      "metadata": {
        "id": "UoTZPwoDOBd9"
      }
    },
    {
      "cell_type": "markdown",
      "source": [],
      "metadata": {
        "id": "Scj1cVMuO4EB"
      }
    },
    {
      "cell_type": "code",
      "source": [
        "5."
      ],
      "metadata": {
        "id": "eqL_oR2Btqj0"
      },
      "execution_count": null,
      "outputs": []
    }
  ]
}
