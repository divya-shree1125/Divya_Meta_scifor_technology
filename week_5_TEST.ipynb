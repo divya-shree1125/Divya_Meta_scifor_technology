{
  "nbformat": 4,
  "nbformat_minor": 0,
  "metadata": {
    "colab": {
      "provenance": [],
      "authorship_tag": "ABX9TyPbM3e8PPr/eq9xtEuxdHIW",
      "include_colab_link": true
    },
    "kernelspec": {
      "name": "python3",
      "display_name": "Python 3"
    },
    "language_info": {
      "name": "python"
    }
  },
  "cells": [
    {
      "cell_type": "markdown",
      "metadata": {
        "id": "view-in-github",
        "colab_type": "text"
      },
      "source": [
        "<a href=\"https://colab.research.google.com/github/divya-shree1125/Divya_Meta_scifor_technology/blob/main/week_5_TEST.ipynb\" target=\"_parent\"><img src=\"https://colab.research.google.com/assets/colab-badge.svg\" alt=\"Open In Colab\"/></a>"
      ]
    },
    {
      "cell_type": "markdown",
      "source": [
        "# **NLP**"
      ],
      "metadata": {
        "id": "6ZJLMJMa1yf2"
      }
    },
    {
      "cell_type": "markdown",
      "source": [
        "**1.Write a program of text processing.**\n"
      ],
      "metadata": {
        "id": "kEc9e3bY19T8"
      }
    },
    {
      "cell_type": "code",
      "source": [
        "# Text Processing Program\n",
        "\n",
        "def count_words(text):\n",
        "    words = text.split()\n",
        "    return len(words)\n",
        "\n",
        "def unique_words(text):\n",
        "    words = text.split()\n",
        "    unique = set(words)\n",
        "    return unique\n",
        "\n",
        "def word_frequency(text):\n",
        "    words = text.split()\n",
        "    frequency = {}\n",
        "    for word in words:\n",
        "        word = word.lower().strip(\".,!?\\\"'\")  # Normalize words\n",
        "        frequency[word] = frequency.get(word, 0) + 1\n",
        "    return frequency\n",
        "\n",
        "def main():\n",
        "    print(\"Welcome to the Text Processing Program!\")\n",
        "    print(\"Enter a block of text below:\")\n",
        "    text = input(\"> \")\n",
        "\n",
        "\n",
        "    # Total word count\n",
        "    total_words = count_words(text)\n",
        "    print(f\"Total Words: {total_words}\")\n",
        "\n",
        "    # Unique words\n",
        "    unique = unique_words(text)\n",
        "    print(f\"Unique Words: {len(unique)}\")\n",
        "    print(f\"Unique Word List: {', '.join(unique)}\")\n",
        "\n",
        "    # Word frequency\n",
        "    frequencies = word_frequency(text)\n",
        "    print(\"\\nWord Frequencies:\")\n",
        "    for word, freq in frequencies.items():\n",
        "        print(f\"{word}: {freq}\")\n",
        "\n",
        "if __name__ == \"__main__\":\n",
        "  main()"
      ],
      "metadata": {
        "colab": {
          "base_uri": "https://localhost:8080/"
        },
        "id": "S4yxKmxY3Eij",
        "outputId": "118ab97e-9865-4847-d8db-4316a7642074"
      },
      "execution_count": 9,
      "outputs": [
        {
          "output_type": "stream",
          "name": "stdout",
          "text": [
            "Welcome to the Text Processing Program!\n",
            "Enter a block of text below:\n",
            "> this is the program for text processing program\n",
            "Total Words: 8\n",
            "Unique Words: 7\n",
            "Unique Word List: processing, program, text, is, the, for, this\n",
            "\n",
            "Word Frequencies:\n",
            "this: 1\n",
            "is: 1\n",
            "the: 1\n",
            "program: 2\n",
            "for: 1\n",
            "text: 1\n",
            "processing: 1\n"
          ]
        }
      ]
    },
    {
      "cell_type": "markdown",
      "source": [
        "**2.write a program to implement NLP based upon spacy.**"
      ],
      "metadata": {
        "id": "9JKcgG4T6-qg"
      }
    },
    {
      "cell_type": "code",
      "source": [
        "import spacy\n",
        "\n",
        "nlp = spacy.load(\"en_core_web_sm\")\n",
        "\n",
        "text = \"This is a sample sentence to demonstrate spaCy's capabilities.\"\n",
        "\n",
        "doc = nlp(text)\n",
        "\n",
        "for token in doc:\n",
        "    print(token.text, token.pos_)\n",
        "\n",
        "for entity in doc.ents:\n",
        "    print(entity.text, entity.label_)"
      ],
      "metadata": {
        "colab": {
          "base_uri": "https://localhost:8080/"
        },
        "id": "yJbtZRF_5gNI",
        "outputId": "b81644e9-e4a9-427c-a139-c1fc7b74342a"
      },
      "execution_count": 10,
      "outputs": [
        {
          "output_type": "stream",
          "name": "stdout",
          "text": [
            "This PRON\n",
            "is AUX\n",
            "a DET\n",
            "sample NOUN\n",
            "sentence NOUN\n",
            "to PART\n",
            "demonstrate VERB\n",
            "spaCy PROPN\n",
            "'s PART\n",
            "capabilities NOUN\n",
            ". PUNCT\n"
          ]
        }
      ]
    },
    {
      "cell_type": "markdown",
      "source": [
        "# **Statistics**"
      ],
      "metadata": {
        "id": "sQE3TrHF8CIx"
      }
    },
    {
      "cell_type": "markdown",
      "source": [
        "**Difference between descriptive and inferential statistics.write down atleast 10-15 differences.**\n",
        "\n",
        "**ANS:**\n",
        "\n",
        "**1.Descriptive statistics:**\n",
        "\n",
        "*It describes or summarizes the data.\n",
        "\n",
        "*The purpose of descriptive statistics is to describe a situation or an event .\n",
        "\n",
        "*It helps in organizing analyzing and presenting data in an effective  and useful way.\n",
        "\n",
        "*It quantifies the known data i.e. it summarizes the characteristics of the data which is already known.\n",
        "\n",
        "*It measures only the provided data and does not consider any other variables. hence, it is an objective methodology.\n",
        "\n",
        "*It gives the result or output in the form of tables, charts or graphs.\n",
        "\n",
        "*they are applied on the entire population . the properties of the population as known as the parameters.\n",
        "\n",
        "*the measure or techniques used in the descriptive statistics are mean,median,mode, variance, standard devation, range,IOR, frequecy distribution\n",
        "\n",
        "*the types of descriptive statistics are:\n",
        "\n",
        "a.measure of central tendency\n",
        "\n",
        "b.measure of variability\n",
        "\n",
        "c.measure of distribution\n",
        "\n",
        "\n",
        "*the example:\n",
        "\n",
        "a.46% of employees are females.\n",
        "\n",
        "b.average email response rate is 7%.\n",
        "\n",
        "\n",
        "\n",
        "**2.Inferential statistics:**\n",
        "\n",
        "*It makes inferences or conclusion about the population based on the sample.\n",
        "\n",
        "*the purpose of inferential statistics is to exaplain the likelihood of occurrence of an event.\n",
        "\n",
        "*It deals with comparing the data, testing i.e, making hypotheses and estimates, and predicting future results.\n",
        "\n",
        "*It tries to make inferences or learn about the population.\n",
        "\n",
        "*It considers variables, sampling errors that may lead to conducting additional tests.\n",
        "\n",
        "*It generates probabilities as its results.\n",
        "\n",
        "*It applied on a subset of the population i.e, on sample are known as the smapling statistics.\n",
        "\n",
        "*the measures or techniques used for inferential data analysis are t-test,z-test,ANOVA,chi-square,linear Regression.\n",
        "\n",
        "*types of inferential statistics:\n",
        "\n",
        "a.hypothesis testing\n",
        "\n",
        "b.confidence intervals\n",
        "\n",
        "c.regression analysis"
      ],
      "metadata": {
        "id": "pmTuf-bd8KFj"
      }
    }
  ]
}