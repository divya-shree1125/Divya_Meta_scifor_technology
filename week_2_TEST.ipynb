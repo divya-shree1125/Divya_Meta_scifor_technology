{
  "nbformat": 4,
  "nbformat_minor": 0,
  "metadata": {
    "colab": {
      "provenance": [],
      "authorship_tag": "ABX9TyPxjeTiHzn9xFBmEj69pBWF",
      "include_colab_link": true
    },
    "kernelspec": {
      "name": "python3",
      "display_name": "Python 3"
    },
    "language_info": {
      "name": "python"
    }
  },
  "cells": [
    {
      "cell_type": "markdown",
      "metadata": {
        "id": "view-in-github",
        "colab_type": "text"
      },
      "source": [
        "<a href=\"https://colab.research.google.com/github/divya-shree1125/Divya_Meta_scifor_technology/blob/main/week_2_TEST.ipynb\" target=\"_parent\"><img src=\"https://colab.research.google.com/assets/colab-badge.svg\" alt=\"Open In Colab\"/></a>"
      ]
    },
    {
      "cell_type": "code",
      "execution_count": 1,
      "metadata": {
        "id": "RZYX3Cw2RkRF"
      },
      "outputs": [],
      "source": [
        "#1.what are decorators in python?provide a code of same.\n",
        "'''Decorators are a very powerful and useful tool in python since it allows programmers to modify the behaviour of function or class.\n",
        "Decorators allow us to wrap another function in order to extend the behaviour of the wrapped function, without permanetly modifying it'''\n",
        "class student:\n",
        "  @staticmethod\n",
        "  def college():\n",
        "    print('ABC college')"
      ]
    },
    {
      "cell_type": "code",
      "source": [
        "#2.what do you understand by method overriding and method overloading?give the complete implementation.\n",
        "'''method overloading: It occurs when a subclass provides a specific implementation for a method that is already defined in its superclass.'''\n",
        "class animal:\n",
        "  def make_sound(self):\n",
        "    print('the animal make sound')\n",
        "class dog(animal):\n",
        "  def make_sound(self):\n",
        "    print('the dog barks')\n",
        "'''Method overriding: It occurs when a subclass provides a specific implementation for a method that is already defined in its superclass.'''\n",
        "class addition:\n",
        "  def add(self,a=None,b=None,c=None):\n",
        "    if a!=None and b!=None and c!=None:\n",
        "      s=a+b+c\n",
        "      return s\n",
        "    elif a!=None and b!=None:\n",
        "      s=a+b\n",
        "      return s\n",
        "    else:\n",
        "      return a\n",
        "\n",
        "obj=addition()\n",
        "print(obj.add())\n"
      ],
      "metadata": {
        "colab": {
          "base_uri": "https://localhost:8080/"
        },
        "id": "6waLvYhOTHWO",
        "outputId": "fd2cdbbd-fdba-4154-ccbf-a0b2adadae7d"
      },
      "execution_count": 3,
      "outputs": [
        {
          "output_type": "stream",
          "name": "stdout",
          "text": [
            "None\n"
          ]
        }
      ]
    },
    {
      "cell_type": "code",
      "source": [
        "#3.code for hybrid inheritance.\n",
        "class animal:\n",
        "  def __init__(self,name):\n",
        "    self.name=name\n",
        "  def speak(self):\n",
        "    pass\n",
        "class dog(animal):\n",
        "  def speak(self):\n",
        "    return f\"{self.name}says woof!\"\n",
        "class petowner:\n",
        "  def __init__(self,name,pet_name):\n",
        "    self.name=name\n",
        "    self.pet=dog(pet_name)\n",
        "  def introduce(self):\n",
        "    print(f\"my  name is{self.name}\")\n",
        "    print(f\"my pet{self.pet.name}\")\n",
        "    print(f\"it says:{self.pet.speak()}\")\n",
        "\n",
        "owner=petowner('alice','buddy')\n",
        "print(owner.introduce())\n",
        "\n"
      ],
      "metadata": {
        "colab": {
          "base_uri": "https://localhost:8080/"
        },
        "id": "-RJlsy4TV5ry",
        "outputId": "2a059d11-a878-4e2e-b85c-4b4f4ae68800"
      },
      "execution_count": 6,
      "outputs": [
        {
          "output_type": "stream",
          "name": "stdout",
          "text": [
            "my  name isalice\n",
            "my petbuddy\n",
            "it says:buddysays woof!\n",
            "None\n"
          ]
        }
      ]
    },
    {
      "cell_type": "code",
      "source": [
        "#4.explain about the time complexity and space complexity of stacks, queues,linekdin list.\n",
        "''''time and space complexity of stacks,queues,linked list are given\n",
        "1.stacks:\n",
        "  a.push opertion:\n",
        "    time complexity:o(1)\n",
        "    space complexity:o(1)\n",
        "  b.pop operation:\n",
        "    time complexity:o(1)\n",
        "    space complexity:o(1)\n",
        "  c.peek operation:\n",
        "    time complexity:o(1)\n",
        "    space complexity:o(1)\n",
        "\n",
        "2.queues:\n",
        "  a.Enqueue operation:\n",
        "    time complexity:O(1)\n",
        "    space complexity:O(1)\n",
        "  b.dequeue operation:\n",
        "    time complexity:O(1)\n",
        "    space complexity:O(1)\n",
        "  c.peek operation:\n",
        "    time complexity:O(1)\n",
        "    space complexity:O(1)\n",
        "\n",
        "3.linked list:\n",
        "  a.insertion at the head:\n",
        "     time complexity:O(1)\n",
        "     space complexity:O(1)\n",
        "  b.insertion at the tail:\n",
        "     time compexity:O(n)(in the worst case,if we don't have a tail pointer)\n",
        "     space compexity:O(1)\n",
        "  c.insertion at a specific position:\n",
        "     time compexity:O(n)(to reach the desired position)\n",
        "     space compexity:O(1)\n",
        "  d.deletion at the head:\n",
        "    time compexity:O(1)\n",
        "    space compexityO(1)\n",
        "  e.deletion at the tail:\n",
        "    time compexity:O(n)(in the worst caes, if we don't have a tail pointer)\n",
        "    space compexity:O(1)'''\n",
        "\n",
        "\n",
        "\n",
        "\n",
        "\n"
      ],
      "metadata": {
        "colab": {
          "base_uri": "https://localhost:8080/",
          "height": 139
        },
        "id": "MPo7kG-DX5jG",
        "outputId": "0c9a6b1e-6e3b-4553-a6cf-22cc04b699e3"
      },
      "execution_count": 8,
      "outputs": [
        {
          "output_type": "execute_result",
          "data": {
            "text/plain": [
              "\"'time and space complexity of stacks,queues,linked list are given\\n1.stacks:\\n  a.push opertion:\\n    time complexity:o(1)\\n    space complexity:o(1)\\n  b.pop operation:\\n    time complexity:o(1)\\n    space complexity:o(1)\\n  c.peek operation:\\n    time complexity:o(1)\\n    space complexity:o(1)\\n\\n2.queues:\\n  a.Enqueue operation:\\n    time complexity:O(1)\\n    space complexity:O(1)\\n  b.dequeue operation:\\n    time complexity:O(1)\\n    space complexity:O(1)\\n  c.peek operation:\\n    time complexity:O(1)\\n    space complexity:O(1)\\n\\n3.linked list:\\n  a.insertion at the head:\\n     time complexity:O(1)\\n     space complexity:O(1)\\n  b.insertion at the tail:\\n     time compexity:O(n)(in the worst case,if we don't have a tail pointer)\\n     space compexity:O(1)\\n  c.insertion at a specific position:\\n     time compexity:O(n)(to reach the desired position)\\n     space compexity:O(1)\\n  d.deletion at the head:\\n    time compexity:O(1)\\n    space compexityO(1)\\n  e.deletion at the tail:\\n    time compexity:O(n)(in the worst caes, if we don't have a tail pointer)\\n    space compexity:O(1)\""
            ],
            "application/vnd.google.colaboratory.intrinsic+json": {
              "type": "string"
            }
          },
          "metadata": {},
          "execution_count": 8
        }
      ]
    },
    {
      "cell_type": "code",
      "source": [
        "#5.explain any 3 widgets in streamlit\n",
        "'''1.slider:\n",
        "     allows users to select a value from a continous range\n",
        "     ex:import streamlit as st\n",
        "     st.slider('select a value',min_value=0,max_value=100,value=50)\n",
        "   2.selectbox:\n",
        "     presents a dropdown menu with mulitple options.\n",
        "     ex:import streamlit as st\n",
        "     option=['apple','banana','cherry']\n",
        "     a=st.selectbox('select a fruit',option)\n",
        "   3.button:\n",
        "     triggers an action when clicked\n",
        "     ex:import streamlit as st\n",
        "     st.button('click me')'''"
      ],
      "metadata": {
        "colab": {
          "base_uri": "https://localhost:8080/",
          "height": 87
        },
        "id": "bGnbnIhDcexv",
        "outputId": "4e4f962c-50b0-46e2-8050-f8aed0b136b6"
      },
      "execution_count": 9,
      "outputs": [
        {
          "output_type": "execute_result",
          "data": {
            "text/plain": [
              "\"1.slider:\\n     allows users to select a value from a continous range\\n     ex:import streamlit as st\\n     st.slider('select a value',min_value=0,max_value=100,value=50)\\n   2.selectbox:\\n     presents a dropdown menu with mulitple options.\\n     ex:import streamlit as st\\n     option=['apple','banana','cherry']\\n     a=st.selectbox('select a fruit',option)\\n   3.button:\\n     triggers an action when clicked\\n     ex:import streamlit as st\\n     st.button('click me')\""
            ],
            "application/vnd.google.colaboratory.intrinsic+json": {
              "type": "string"
            }
          },
          "metadata": {},
          "execution_count": 9
        }
      ]
    },
    {
      "cell_type": "code",
      "source": [
        "#6.explain session in streamlit.\n",
        "'''1.initialization:when a user first interacts with your streamlit app,a session is created\n",
        "   2.data storage:you can store data in the session using the st.session_state dicitionary\n",
        "   3.data retrieval:access stored data in subsequent page loads or app runs using the same st.session_state dicitionary."
      ],
      "metadata": {
        "id": "ux_j94JhfnJN"
      },
      "execution_count": null,
      "outputs": []
    },
    {
      "cell_type": "code",
      "source": [
        "#7.how will you run any file in streamlit\n",
        "'''streamlit run filename.py'''"
      ],
      "metadata": {
        "colab": {
          "base_uri": "https://localhost:8080/",
          "height": 35
        },
        "id": "s287Ddt0eZ26",
        "outputId": "5cb3984d-1687-43db-ab20-3bbd4dc349f3"
      },
      "execution_count": 11,
      "outputs": [
        {
          "output_type": "execute_result",
          "data": {
            "text/plain": [
              "'streamlit run filename.py'"
            ],
            "application/vnd.google.colaboratory.intrinsic+json": {
              "type": "string"
            }
          },
          "metadata": {},
          "execution_count": 11
        }
      ]
    },
    {
      "cell_type": "code",
      "source": [],
      "metadata": {
        "id": "AixABcwEfQwN"
      },
      "execution_count": null,
      "outputs": []
    }
  ]
}