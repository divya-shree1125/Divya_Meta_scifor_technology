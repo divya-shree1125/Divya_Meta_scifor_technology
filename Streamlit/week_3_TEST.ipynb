{
  "nbformat": 4,
  "nbformat_minor": 0,
  "metadata": {
    "colab": {
      "provenance": [],
      "authorship_tag": "ABX9TyPIhKAb0C4YYt6Ilsu9VCFO",
      "include_colab_link": true
    },
    "kernelspec": {
      "name": "python3",
      "display_name": "Python 3"
    },
    "language_info": {
      "name": "python"
    }
  },
  "cells": [
    {
      "cell_type": "markdown",
      "metadata": {
        "id": "view-in-github",
        "colab_type": "text"
      },
      "source": [
        "<a href=\"https://colab.research.google.com/github/divya-shree1125/Divya_Meta_scifor_technology/blob/main/week_3_TEST.ipynb\" target=\"_parent\"><img src=\"https://colab.research.google.com/assets/colab-badge.svg\" alt=\"Open In Colab\"/></a>"
      ]
    },
    {
      "cell_type": "markdown",
      "source": [
        "**1.Explain the difference between lists and tuples in python.why might you choose one over the other.**\n",
        "\n",
        "ans:-\n",
        "\n",
        "a.list: a bulit-in data type that stores set of values. it can store elements of diffent types(int,float,string).it is mutable,indexing,ordered and allow duplicates.\n",
        "ex:a=['divya',21,45.6]\n",
        "\n",
        "b.tuples:a built-in datatype that lets us create ordred and immuatable sequence of values.allows duplicates.\n",
        "ex:tup=(56,76,86,56)\n",
        "\n",
        "choose lists when you need flexibilites and the ability to modify the collection.\n",
        "choose tuples when you need immutability,performance,or want to use them as dictionary keys."
      ],
      "metadata": {
        "id": "Xp7awm-8kmPm"
      }
    },
    {
      "cell_type": "code",
      "execution_count": 6,
      "metadata": {
        "colab": {
          "base_uri": "https://localhost:8080/"
        },
        "id": "KXpZYBvakeS_",
        "outputId": "507f47ff-35e0-4bb0-fcac-f11995b5ffb8"
      },
      "outputs": [
        {
          "output_type": "stream",
          "name": "stdout",
          "text": [
            "[2, 44, 66, 12, 78]\n"
          ]
        }
      ],
      "source": [
        "# 2.write a function that takes a list of integers and returns a new list with only the even number.\n",
        "def en(l):\n",
        "  even_list=[]\n",
        "  for num in l:\n",
        "    if num%2==0:\n",
        "      even_list.append(num)\n",
        "  return even_list\n",
        "\n",
        "even=en([1,2,3,44,5,67,66,12,78])\n",
        "print(even)\n"
      ]
    },
    {
      "cell_type": "markdown",
      "source": [
        "**3.Describe how python's garbage collection works. what are the main methods it uses to manage memory.**\n",
        "\n",
        "ans:-\n",
        "\n",
        "python's garbage collection system to automatically manage memory allocation and deallocation,freeing the programmer from manual memory management  and prevents memory leaks.\n",
        "\n",
        "\n",
        "---methods used:\n",
        "\n",
        "1.Reference counting\n",
        "\n",
        "2.cycle detection\n"
      ],
      "metadata": {
        "id": "3dwGZj-9phis"
      }
    },
    {
      "cell_type": "code",
      "source": [
        "# 4.Give  dictionary where keys are students names and values are lists of their scores, writea function that returns the average score for each student.\n",
        "student_scores = {\n",
        "    \"divya\": [95, 88, 92],\n",
        "    \"kavya\": [85, 90, 87],\n",
        "    \"suma\": [78, 82, 79],\n",
        "    \"Dharshan\": [98, 93, 96],\n",
        "    \"Emily\": [89, 91, 84]\n",
        "}\n",
        "def calculate_average_score(scores):\n",
        "  total_score = sum(scores)\n",
        "  average_score = total_score / len(scores)\n",
        "  return average_score\n",
        "\n",
        "for student, scores in student_scores.items():\n",
        "  average_score = calculate_average_score(scores)\n",
        "  print(f\"{student}'s average score: {average_score:.2f}\")"
      ],
      "metadata": {
        "colab": {
          "base_uri": "https://localhost:8080/"
        },
        "id": "jzNzAni2ozH5",
        "outputId": "38339080-06b7-42bf-ea4d-801cf2544aad"
      },
      "execution_count": 9,
      "outputs": [
        {
          "output_type": "stream",
          "name": "stdout",
          "text": [
            "divya's average score: 91.67\n",
            "kavya's average score: 87.33\n",
            "suma's average score: 79.67\n",
            "Dharshan's average score: 95.67\n",
            "Emily's average score: 88.00\n"
          ]
        }
      ]
    },
    {
      "cell_type": "markdown",
      "source": [
        "# 5. what are (*args and) (**kwargs) in the python and how they are used.\n",
        "\n",
        "Ans:-\n",
        "\n",
        "*args: its a varible-length positional arguments.collects extra positional arguments into a tuple.the name args is a convention,you can use any name.\n",
        "\n",
        "ex:def my_function(*args):\n",
        "\n",
        "  for arg in args:\n",
        "\n",
        "    print(arg)\n",
        "\n",
        "my_function(1, 2, 3, \"hello\")\n",
        "\n",
        "Output: 1 2 3 hello\n",
        "\n",
        "\n",
        "**kwargs:its a variable-length keyword argument.collects extra keyword arguments into a dictionary.\n",
        "\n",
        "\n",
        "ex:def my_function(**kwargs):\n",
        "\n",
        "  for key, value in kwargs.items():\n",
        "\n",
        "    print(f\"{key}: {value}\")\n",
        "\n",
        "\n",
        "my_function(name=\"divya\", age=30, city=\"bangluru\")\n",
        "\n",
        "Output: name: divya\n",
        "\n",
        "        age: 28\n",
        "\n",
        "        city: bangluru"
      ],
      "metadata": {
        "id": "4oX4fwZIuLMJ"
      }
    },
    {
      "cell_type": "markdown",
      "source": [
        "#streamlit question.\n",
        "**1.explain how streamlit's st cache works and why it is useful.when should you avoid using it.**\n",
        "\n",
        "ans:-\n",
        "streamli's st.cache decorator is to optimizing your app's performance, when dealing with compultationally expensive tasks or data loading operations. it works by caching the results of a function.\n",
        "\n",
        "st.cache is useful:\n",
        "\n",
        "1.improved performance\n",
        "\n",
        "2.enchance user experience\n",
        "\n",
        "3.reduced server load\n",
        "\n",
        "when to avoid st.cache:\n",
        "\n",
        "1.Dynamic dat\n",
        "\n",
        "2.small function\n",
        "\n",
        "3.side effects\n",
        "\n",
        "4.debugging\n"
      ],
      "metadata": {
        "id": "aAsYc2mMweF_"
      }
    },
    {
      "cell_type": "markdown",
      "source": [
        "\n",
        "# 2.write a simple streamlit app that takes a user name as input and displays a personalized greeting message.\n",
        "import streamlit as st\n",
        "\n",
        "def main():\n",
        "\n",
        "    st.title(\"Personalized Greeting\")\n",
        "\n",
        "    username = st.text_input(\"Enter your name:\")\n",
        "\n",
        "\n",
        "    if username:\n",
        "\n",
        "        st.write(f\"Hello, {username}! Welcome to the app.\")\n",
        "        \n",
        "\n",
        "if _name_ == \"_main_\":\n",
        "    main()"
      ],
      "metadata": {
        "id": "6DcgzYJH0BQX"
      }
    },
    {
      "cell_type": "markdown",
      "source": [
        "# 3.Describe the st.sidebar component in streamlit. how does it improve user experience in streamlit applications.\n",
        "\n",
        "ans:-\n",
        "the st.sidebar component in streamlit allows us to create a siderbar in your app, which can be used to display navigation menus, filters, and other interactive elements.\n",
        "\n",
        "\n",
        "it improves the user experience of your streamlit app by:\n",
        "\n",
        "1.organized layout.\n",
        "\n",
        "2.clear navigation\n",
        "\n",
        "3.reduced clutter\n",
        "\n",
        "4.enhance user experience\n",
        "\n",
        "5.efficient use of screen space"
      ],
      "metadata": {
        "id": "26QfohwP0Oyj"
      }
    },
    {
      "cell_type": "code",
      "source": [
        "# 4.create a streamlit app that displays aline chart of random data. allow the user to select the number of data points they want in the chart usig a slider.\n",
        "import streamlit as st\n",
        "import pandas as pd\n",
        "import numpy as np\n",
        "import matplotlib.pyplot as plt\n",
        "\n",
        "def random_data(num_points):\n",
        "    x = np.arange(num_points)\n",
        "    y = np.random.randn(num_points)\n",
        "    return pd.DataFrame({'x': x, 'y': y})\n",
        "\n",
        "def main():\n",
        "    st.title(\"Random Line Chart\")\n",
        "\n",
        "    num_points = st.slider(\"Number of Data Points\", 20, 10, 60)\n",
        "\n",
        "    data = random_data(num_points)\n",
        "\n",
        "    fig, ax = plt.subplots()\n",
        "    ax.plot(data['x'], data['y'])\n",
        "    ax.set_xlabel('X')\n",
        "    ax.set_ylabel('Y')\n",
        "    ax.set_title('Random Line Chart')\n",
        "\n",
        "    st.pyplot(fig)\n",
        "\n",
        "if _name_ == '_main_':\n",
        "    main()"
      ],
      "metadata": {
        "id": "gC7be0KL2FTP"
      },
      "execution_count": null,
      "outputs": []
    },
    {
      "cell_type": "markdown",
      "source": [
        "**5.how does streamlit handle real-time data updates with st.button or st.checkbox?  explain a scenario where this can be usefull**\n",
        "\n",
        "ans:-\n",
        "\n",
        "### 1. st.button\n",
        "st.button allows you to trigger an action when clicked, like re-fetching or refreshing data. Each time a user clicks a button, the Streamlit script reruns, allowing the data displayed to update according to new data or calculations.\n",
        "\n",
        "### 2. st.checkbox\n",
        "st.checkbox works similarly, but it can hold a persistent \"checked\" state. For example, if a checkbox is checked, you could set your app to repeatedly fetch data or enable certain data processing functions in the script each time it reruns.\n",
        "\n",
        "### Scenario Example: Real-Time Stock Price Updates\n",
        "Imagine you are creating a simple dashboard to monitor stock prices. Each time you press a \"Refresh Prices\" button (st.button), the app fetches the latest stock prices from an API and displays them.\n",
        "\n",
        "Here's how it could work:\n",
        "1. You press st.button(\"Refresh Prices\").\n",
        "2. The Streamlit script reruns, triggering a new fetch request to get the latest stock prices.\n",
        "3. Streamlit displays the updated prices on the screen.\n",
        "\n",
        "In a similar vein, you could use a checkbox to turn \"auto-refresh\" on or off:\n",
        "- If st.checkbox(\"Auto-refresh every 5 seconds\") is checked, the app might use a loop or time delay to automatically fetch and display new data at set intervals, as long as the checkbox remains checked.\n"
      ],
      "metadata": {
        "id": "9U_H7uWj37bx"
      }
    },
    {
      "cell_type": "code",
      "source": [],
      "metadata": {
        "id": "hFiVAKklzzFb"
      },
      "execution_count": null,
      "outputs": []
    }
  ]
}
